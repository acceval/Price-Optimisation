{
 "cells": [
  {
   "cell_type": "code",
   "execution_count": 1,
   "metadata": {
    "ExecuteTime": {
     "end_time": "2021-07-26T01:23:07.128285Z",
     "start_time": "2021-07-26T01:23:06.159078Z"
    }
   },
   "outputs": [
    {
     "name": "stdout",
     "output_type": "stream",
     "text": [
      "/home/cst/SmartTradzt/PriceOptimisation\n",
      "2021-07-26\n"
     ]
    }
   ],
   "source": [
    "import os, glob,inspect\n",
    "import copy\n",
    "import numpy as np\n",
    "import pandas as pd\n",
    "# pd.set_option('display.max_rows', 250)\n",
    "pd.set_option('display.max_columns', 200)\n",
    "\n",
    "import seaborn as sns\n",
    "import matplotlib.pyplot as plt\n",
    "%matplotlib inline\n",
    "from scipy.stats import rankdata\n",
    "from scipy import stats\n",
    "from datetime import datetime, timedelta\n",
    "\n",
    "import sklearn\n",
    "from sklearn.preprocessing import LabelEncoder\n",
    "from sklearn.preprocessing import OneHotEncoder\n",
    "from sklearn.model_selection import train_test_split\n",
    "from sklearn.linear_model import LinearRegression\n",
    "from sklearn.tree import DecisionTreeRegressor, DecisionTreeClassifier, _tree\n",
    "from sklearn import metrics\n",
    "import statsmodels.api as sm\n",
    "from statsmodels.formula.api import ols\n",
    "from sklearn.preprocessing import StandardScaler, MinMaxScaler\n",
    "from sklearn import mixture\n",
    "from math import pi\n",
    "from sklearn.cluster import DBSCAN, KMeans\n",
    "from sklearn.decomposition import PCA\n",
    "from kneed import DataGenerator, KneeLocator\n",
    "from sklearn import tree\n",
    "import string\n",
    "from sklearn.tree import export_text\n",
    "from sklearn.preprocessing import LabelEncoder\n",
    "from pprint import pprint\n",
    "import sympy as sym\n",
    "from sympy import solve\n",
    "\n",
    "\n",
    "cwd = os.getcwd()\n",
    "today = datetime.today().strftime('%Y-%m-%d')\n",
    "min_cluster = 3\n",
    "price_step = 0.01\n",
    "\n",
    "print(cwd)\n",
    "print(today)"
   ]
  },
  {
   "cell_type": "code",
   "execution_count": 2,
   "metadata": {
    "ExecuteTime": {
     "end_time": "2021-07-26T01:23:07.137864Z",
     "start_time": "2021-07-26T01:23:07.129707Z"
    }
   },
   "outputs": [],
   "source": [
    "def mean_absolute_percentage_error(y_true, y_pred): \n",
    "    y_true, y_pred = np.array(y_true), np.array(y_pred)\n",
    "    return np.mean(np.abs((y_true - y_pred) / y_true)) * 100\n",
    "\n",
    "def export_py_code(tree, feature_names, max_depth=100, spacing=4):\n",
    "    if spacing < 2:\n",
    "        raise ValueError('spacing must be > 1')\n",
    "\n",
    "    # Clean up feature names (for correctness)\n",
    "    nums = string.digits\n",
    "    alnums = string.ascii_letters + nums\n",
    "    clean = lambda s: ''.join(c if c in alnums else '_' for c in s)\n",
    "    features = [clean(x) for x in feature_names]\n",
    "    features = ['_'+x if x[0] in nums else x for x in features if x]\n",
    "    if len(set(features)) != len(feature_names):\n",
    "        raise ValueError('invalid feature names')\n",
    "\n",
    "    # First: export tree to text\n",
    "    res = export_text(tree, feature_names=features, \n",
    "                        max_depth=max_depth,\n",
    "                        decimals=6,\n",
    "                        spacing=spacing-1)\n",
    "\n",
    "    # Second: generate Python code from the text\n",
    "    skip, dash = ' '*spacing, '-'*(spacing-1)\n",
    "    code = 'def decision_tree({}):\\n'.format(', '.join(features))\n",
    "    for line in repr(tree).split('\\n'):\n",
    "        code += skip + \"# \" + line + '\\n'\n",
    "    for line in res.split('\\n'):\n",
    "        line = line.rstrip().replace('|',' ')\n",
    "        if '<' in line or '>' in line:\n",
    "            line, val = line.rsplit(maxsplit=1)\n",
    "            line = line.replace(' ' + dash, 'if')\n",
    "            line = '{} {:g}:'.format(line, float(val))\n",
    "        else:\n",
    "            line = line.replace(' {} class:'.format(dash), 'return')\n",
    "        code += skip + line + '\\n'\n",
    "\n",
    "    return code.replace('- value:','return').replace('-','')\n",
    "\n",
    "def get_func_args(f):\n",
    "    if hasattr(f, 'args'):\n",
    "        return f.args\n",
    "    else:\n",
    "        return list(inspect.signature(f).parameters)\n",
    "\n",
    "def tree_to_df(reg_tree, feature_names):\n",
    "    tree_ = reg_tree.tree_\n",
    "    feature_name = [\n",
    "        feature_names[i] if i != sklearn.tree._tree.TREE_UNDEFINED else \"undefined!\"\n",
    "        for i in tree_.feature\n",
    "    ]\n",
    "    \n",
    "    def recurse(node, row, ret):\n",
    "        if tree_.feature[node] != sklearn.tree._tree.TREE_UNDEFINED:\n",
    "            name = feature_name[node]\n",
    "            threshold = tree_.threshold[node]\n",
    "            # Add rule to row and search left branch\n",
    "            row[-1].append(name + \" <= \" +  str(threshold))\n",
    "            recurse(tree_.children_left[node], row, ret)\n",
    "            # Add rule to row and search right branch\n",
    "            row[-1].append(name + \" > \" +  str(threshold))\n",
    "            recurse(tree_.children_right[node], row, ret)\n",
    "        else:\n",
    "            # Add output rules and start a new row\n",
    "            label = tree_.value[node]\n",
    "            ret.append(\"return \" + str(label[0][0]))\n",
    "            row.append([])\n",
    "    \n",
    "    # Initialize\n",
    "    rules = [[]]\n",
    "    vals = []\n",
    "    \n",
    "    # Call recursive function with initial values\n",
    "    recurse(0, rules, vals)\n",
    "    \n",
    "    # Convert to table and output\n",
    "    df = pd.DataFrame(rules).dropna(how='all')\n",
    "    df['Return'] = pd.Series(vals)\n",
    "    return df\n"
   ]
  },
  {
   "cell_type": "code",
   "execution_count": 3,
   "metadata": {
    "ExecuteTime": {
     "end_time": "2021-07-26T01:23:07.146631Z",
     "start_time": "2021-07-26T01:23:07.139453Z"
    }
   },
   "outputs": [
    {
     "name": "stdout",
     "output_type": "stream",
     "text": [
      "/home/cst/SmartTradzt/PriceOptimisation/Price_Opti_Input.csv\n"
     ]
    }
   ],
   "source": [
    "filename = 'Price_Opti_Input.csv'\n",
    "filepath = os.path.join(cwd,filename)\n",
    "print(filepath)"
   ]
  },
  {
   "cell_type": "code",
   "execution_count": 4,
   "metadata": {
    "ExecuteTime": {
     "end_time": "2021-07-26T01:23:07.163142Z",
     "start_time": "2021-07-26T01:23:07.147772Z"
    }
   },
   "outputs": [
    {
     "data": {
      "text/html": [
       "<div>\n",
       "<style scoped>\n",
       "    .dataframe tbody tr th:only-of-type {\n",
       "        vertical-align: middle;\n",
       "    }\n",
       "\n",
       "    .dataframe tbody tr th {\n",
       "        vertical-align: top;\n",
       "    }\n",
       "\n",
       "    .dataframe thead th {\n",
       "        text-align: right;\n",
       "    }\n",
       "</style>\n",
       "<table border=\"1\" class=\"dataframe\">\n",
       "  <thead>\n",
       "    <tr style=\"text-align: right;\">\n",
       "      <th></th>\n",
       "      <th>Customer</th>\n",
       "      <th>Product_Group</th>\n",
       "      <th>Recency</th>\n",
       "      <th>Avg_Price_L3Y</th>\n",
       "      <th>Revenue_L12</th>\n",
       "      <th>Customer_Size</th>\n",
       "      <th>l3y_volume</th>\n",
       "      <th>standard_cost</th>\n",
       "      <th>l12_sales_vol</th>\n",
       "      <th>Current_Price</th>\n",
       "    </tr>\n",
       "  </thead>\n",
       "  <tbody>\n",
       "    <tr>\n",
       "      <th>0</th>\n",
       "      <td>10018</td>\n",
       "      <td>Product_A</td>\n",
       "      <td>9</td>\n",
       "      <td>29.3</td>\n",
       "      <td>243</td>\n",
       "      <td>38827.46</td>\n",
       "      <td>34.89</td>\n",
       "      <td>10</td>\n",
       "      <td>11.6</td>\n",
       "      <td>32.23</td>\n",
       "    </tr>\n",
       "    <tr>\n",
       "      <th>1</th>\n",
       "      <td>10024</td>\n",
       "      <td>Product_A</td>\n",
       "      <td>5</td>\n",
       "      <td>53.6</td>\n",
       "      <td>627</td>\n",
       "      <td>4051.66</td>\n",
       "      <td>42.84</td>\n",
       "      <td>10</td>\n",
       "      <td>14.3</td>\n",
       "      <td>58.96</td>\n",
       "    </tr>\n",
       "    <tr>\n",
       "      <th>2</th>\n",
       "      <td>10031</td>\n",
       "      <td>Product_A</td>\n",
       "      <td>2</td>\n",
       "      <td>60.6</td>\n",
       "      <td>2362</td>\n",
       "      <td>12182.45</td>\n",
       "      <td>116.86</td>\n",
       "      <td>10</td>\n",
       "      <td>39.0</td>\n",
       "      <td>66.66</td>\n",
       "    </tr>\n",
       "    <tr>\n",
       "      <th>3</th>\n",
       "      <td>10064</td>\n",
       "      <td>Product_A</td>\n",
       "      <td>5</td>\n",
       "      <td>39.8</td>\n",
       "      <td>336</td>\n",
       "      <td>31729.38</td>\n",
       "      <td>26.61</td>\n",
       "      <td>10</td>\n",
       "      <td>8.9</td>\n",
       "      <td>43.78</td>\n",
       "    </tr>\n",
       "    <tr>\n",
       "      <th>4</th>\n",
       "      <td>10117</td>\n",
       "      <td>Product_A</td>\n",
       "      <td>12</td>\n",
       "      <td>37.5</td>\n",
       "      <td>135</td>\n",
       "      <td>135.11</td>\n",
       "      <td>3.60</td>\n",
       "      <td>10</td>\n",
       "      <td>1.2</td>\n",
       "      <td>41.25</td>\n",
       "    </tr>\n",
       "  </tbody>\n",
       "</table>\n",
       "</div>"
      ],
      "text/plain": [
       "   Customer Product_Group  Recency  Avg_Price_L3Y  Revenue_L12  Customer_Size  \\\n",
       "0     10018     Product_A        9           29.3          243       38827.46   \n",
       "1     10024     Product_A        5           53.6          627        4051.66   \n",
       "2     10031     Product_A        2           60.6         2362       12182.45   \n",
       "3     10064     Product_A        5           39.8          336       31729.38   \n",
       "4     10117     Product_A       12           37.5          135         135.11   \n",
       "\n",
       "   l3y_volume  standard_cost  l12_sales_vol  Current_Price  \n",
       "0       34.89             10           11.6          32.23  \n",
       "1       42.84             10           14.3          58.96  \n",
       "2      116.86             10           39.0          66.66  \n",
       "3       26.61             10            8.9          43.78  \n",
       "4        3.60             10            1.2          41.25  "
      ]
     },
     "execution_count": 4,
     "metadata": {},
     "output_type": "execute_result"
    }
   ],
   "source": [
    "df = pd.read_csv(filepath)\n",
    "df.head()"
   ]
  },
  {
   "cell_type": "code",
   "execution_count": 5,
   "metadata": {
    "ExecuteTime": {
     "end_time": "2021-07-26T01:23:07.166588Z",
     "start_time": "2021-07-26T01:23:07.164067Z"
    }
   },
   "outputs": [
    {
     "data": {
      "text/plain": [
       "(2147, 10)"
      ]
     },
     "execution_count": 5,
     "metadata": {},
     "output_type": "execute_result"
    }
   ],
   "source": [
    "df.shape"
   ]
  },
  {
   "cell_type": "code",
   "execution_count": 6,
   "metadata": {
    "ExecuteTime": {
     "end_time": "2021-07-26T01:23:07.180861Z",
     "start_time": "2021-07-26T01:23:07.167422Z"
    }
   },
   "outputs": [
    {
     "data": {
      "text/html": [
       "<div>\n",
       "<style scoped>\n",
       "    .dataframe tbody tr th:only-of-type {\n",
       "        vertical-align: middle;\n",
       "    }\n",
       "\n",
       "    .dataframe tbody tr th {\n",
       "        vertical-align: top;\n",
       "    }\n",
       "\n",
       "    .dataframe thead th {\n",
       "        text-align: right;\n",
       "    }\n",
       "</style>\n",
       "<table border=\"1\" class=\"dataframe\">\n",
       "  <thead>\n",
       "    <tr style=\"text-align: right;\">\n",
       "      <th></th>\n",
       "      <th>Customer</th>\n",
       "      <th>Product_Group</th>\n",
       "      <th>Recency</th>\n",
       "      <th>Avg_Price_L3Y</th>\n",
       "      <th>Revenue_L12</th>\n",
       "      <th>Customer_Size</th>\n",
       "      <th>l3y_volume</th>\n",
       "      <th>standard_cost</th>\n",
       "      <th>l12_sales_vol</th>\n",
       "      <th>Current_Price</th>\n",
       "    </tr>\n",
       "  </thead>\n",
       "  <tbody>\n",
       "    <tr>\n",
       "      <th>0</th>\n",
       "      <td>10018</td>\n",
       "      <td>Product_A</td>\n",
       "      <td>9</td>\n",
       "      <td>29.3</td>\n",
       "      <td>243</td>\n",
       "      <td>38827.46</td>\n",
       "      <td>34.89</td>\n",
       "      <td>10</td>\n",
       "      <td>11.6</td>\n",
       "      <td>32.23</td>\n",
       "    </tr>\n",
       "    <tr>\n",
       "      <th>1</th>\n",
       "      <td>10024</td>\n",
       "      <td>Product_A</td>\n",
       "      <td>5</td>\n",
       "      <td>53.6</td>\n",
       "      <td>627</td>\n",
       "      <td>4051.66</td>\n",
       "      <td>42.84</td>\n",
       "      <td>10</td>\n",
       "      <td>14.3</td>\n",
       "      <td>58.96</td>\n",
       "    </tr>\n",
       "    <tr>\n",
       "      <th>2</th>\n",
       "      <td>10031</td>\n",
       "      <td>Product_A</td>\n",
       "      <td>2</td>\n",
       "      <td>60.6</td>\n",
       "      <td>2362</td>\n",
       "      <td>12182.45</td>\n",
       "      <td>116.86</td>\n",
       "      <td>10</td>\n",
       "      <td>39.0</td>\n",
       "      <td>66.66</td>\n",
       "    </tr>\n",
       "    <tr>\n",
       "      <th>3</th>\n",
       "      <td>10064</td>\n",
       "      <td>Product_A</td>\n",
       "      <td>5</td>\n",
       "      <td>39.8</td>\n",
       "      <td>336</td>\n",
       "      <td>31729.38</td>\n",
       "      <td>26.61</td>\n",
       "      <td>10</td>\n",
       "      <td>8.9</td>\n",
       "      <td>43.78</td>\n",
       "    </tr>\n",
       "    <tr>\n",
       "      <th>4</th>\n",
       "      <td>10117</td>\n",
       "      <td>Product_A</td>\n",
       "      <td>12</td>\n",
       "      <td>37.5</td>\n",
       "      <td>135</td>\n",
       "      <td>135.11</td>\n",
       "      <td>3.60</td>\n",
       "      <td>10</td>\n",
       "      <td>1.2</td>\n",
       "      <td>41.25</td>\n",
       "    </tr>\n",
       "  </tbody>\n",
       "</table>\n",
       "</div>"
      ],
      "text/plain": [
       "   Customer Product_Group  Recency  Avg_Price_L3Y  Revenue_L12  Customer_Size  \\\n",
       "0     10018     Product_A        9           29.3          243       38827.46   \n",
       "1     10024     Product_A        5           53.6          627        4051.66   \n",
       "2     10031     Product_A        2           60.6         2362       12182.45   \n",
       "3     10064     Product_A        5           39.8          336       31729.38   \n",
       "4     10117     Product_A       12           37.5          135         135.11   \n",
       "\n",
       "   l3y_volume  standard_cost  l12_sales_vol  Current_Price  \n",
       "0       34.89             10           11.6          32.23  \n",
       "1       42.84             10           14.3          58.96  \n",
       "2      116.86             10           39.0          66.66  \n",
       "3       26.61             10            8.9          43.78  \n",
       "4        3.60             10            1.2          41.25  "
      ]
     },
     "execution_count": 6,
     "metadata": {},
     "output_type": "execute_result"
    }
   ],
   "source": [
    "df = pd.read_csv(filepath)\n",
    "df.head()"
   ]
  },
  {
   "cell_type": "code",
   "execution_count": 7,
   "metadata": {
    "ExecuteTime": {
     "end_time": "2021-07-26T01:23:07.185720Z",
     "start_time": "2021-07-26T01:23:07.181788Z"
    }
   },
   "outputs": [
    {
     "data": {
      "text/plain": [
       "Customer           int64\n",
       "Product_Group     object\n",
       "Recency            int64\n",
       "Avg_Price_L3Y    float64\n",
       "Revenue_L12        int64\n",
       "Customer_Size    float64\n",
       "l3y_volume       float64\n",
       "standard_cost      int64\n",
       "l12_sales_vol    float64\n",
       "Current_Price    float64\n",
       "dtype: object"
      ]
     },
     "execution_count": 7,
     "metadata": {},
     "output_type": "execute_result"
    }
   ],
   "source": [
    "df.dtypes"
   ]
  },
  {
   "cell_type": "markdown",
   "metadata": {},
   "source": [
    "# Segmentation"
   ]
  },
  {
   "cell_type": "code",
   "execution_count": 8,
   "metadata": {
    "ExecuteTime": {
     "end_time": "2021-07-26T01:23:07.194559Z",
     "start_time": "2021-07-26T01:23:07.187444Z"
    }
   },
   "outputs": [
    {
     "data": {
      "text/plain": [
       "DecisionTreeRegressor(ccp_alpha=0.001, max_depth=3, min_samples_split=100,\n",
       "                      random_state=42)"
      ]
     },
     "execution_count": 8,
     "metadata": {},
     "output_type": "execute_result"
    }
   ],
   "source": [
    "features = ['Revenue_L12', 'Recency', 'Customer_Size']\n",
    "\n",
    "clf = DecisionTreeRegressor(max_depth=3, min_samples_split=100, random_state=42, ccp_alpha=0.001)\n",
    "clf.fit(df[['Revenue_L12', 'Recency', 'Customer_Size']],df['Avg_Price_L3Y'])"
   ]
  },
  {
   "cell_type": "code",
   "execution_count": 9,
   "metadata": {
    "ExecuteTime": {
     "end_time": "2021-07-26T01:23:07.198426Z",
     "start_time": "2021-07-26T01:23:07.195881Z"
    }
   },
   "outputs": [
    {
     "name": "stdout",
     "output_type": "stream",
     "text": [
      "|--- Revenue_L12 <= 174.50\n",
      "|   |--- Revenue_L12 <= 145.50\n",
      "|   |   |--- Customer_Size <= 128.53\n",
      "|   |   |   |--- value: [57.17]\n",
      "|   |   |--- Customer_Size >  128.53\n",
      "|   |   |   |--- value: [35.72]\n",
      "|   |--- Revenue_L12 >  145.50\n",
      "|   |   |--- Recency <= 2.50\n",
      "|   |   |   |--- value: [49.05]\n",
      "|   |   |--- Recency >  2.50\n",
      "|   |   |   |--- value: [41.50]\n",
      "|--- Revenue_L12 >  174.50\n",
      "|   |--- Customer_Size <= 7481.66\n",
      "|   |   |--- Revenue_L12 <= 202.50\n",
      "|   |   |   |--- value: [46.55]\n",
      "|   |   |--- Revenue_L12 >  202.50\n",
      "|   |   |   |--- value: [51.16]\n",
      "|   |--- Customer_Size >  7481.66\n",
      "|   |   |--- Customer_Size <= 37720.68\n",
      "|   |   |   |--- value: [42.45]\n",
      "|   |   |--- Customer_Size >  37720.68\n",
      "|   |   |   |--- value: [31.60]\n",
      "\n"
     ]
    }
   ],
   "source": [
    "text_representation = tree.export_text(clf, feature_names=features)\n",
    "print(text_representation)"
   ]
  },
  {
   "cell_type": "code",
   "execution_count": 10,
   "metadata": {
    "ExecuteTime": {
     "end_time": "2021-07-26T01:23:07.696537Z",
     "start_time": "2021-07-26T01:23:07.199301Z"
    }
   },
   "outputs": [
    {
     "data": {
      "image/png": "[encoded data removed]",
      "text/plain": [
       "<Figure size 1800x1440 with 1 Axes>"
      ]
     },
     "metadata": {
      "needs_background": "light"
     },
     "output_type": "display_data"
    }
   ],
   "source": [
    "fig = plt.figure(figsize=(25,20))\n",
    "_ = tree.plot_tree(clf, \n",
    "                   feature_names=features,\n",
    "                   filled=True)"
   ]
  },
  {
   "cell_type": "code",
   "execution_count": 11,
   "metadata": {
    "ExecuteTime": {
     "end_time": "2021-07-26T01:23:07.751773Z",
     "start_time": "2021-07-26T01:23:07.697556Z"
    }
   },
   "outputs": [],
   "source": [
    "def get_rules(tree, feature_names, class_names):\n",
    "    tree_ = tree.tree_\n",
    "    feature_name = [\n",
    "        feature_names[i] if i != _tree.TREE_UNDEFINED else \"undefined!\"\n",
    "        for i in tree_.feature\n",
    "    ]\n",
    "\n",
    "    paths = []\n",
    "    path = []\n",
    "    \n",
    "    def recurse(node, path, paths):\n",
    "        \n",
    "        if tree_.feature[node] != _tree.TREE_UNDEFINED:\n",
    "            name = feature_name[node]\n",
    "            threshold = tree_.threshold[node]\n",
    "            p1, p2 = list(path), list(path)\n",
    "            p1 += [f\"({name} <= {np.round(threshold, 3)})\"]\n",
    "            recurse(tree_.children_left[node], p1, paths)\n",
    "            p2 += [f\"({name} > {np.round(threshold, 3)})\"]\n",
    "            recurse(tree_.children_right[node], p2, paths)\n",
    "        else:\n",
    "            path += [(tree_.value[node], tree_.n_node_samples[node])]\n",
    "            paths += [path]\n",
    "            \n",
    "    recurse(0, path, paths)\n",
    "\n",
    "    # sort by samples count\n",
    "    samples_count = [p[-1][1] for p in paths]\n",
    "    ii = list(np.argsort(samples_count))\n",
    "    paths = [paths[i] for i in reversed(ii)]\n",
    "    \n",
    "    rules = []\n",
    "    for path in paths:\n",
    "        rule = \"if \"\n",
    "        \n",
    "        for p in path[:-1]:\n",
    "            if rule != \"if \":\n",
    "                rule += \" and \"\n",
    "            rule += str(p)\n",
    "        rule += \" then \"\n",
    "        if class_names is None:\n",
    "            rule += \"response: \"+str(np.round(path[-1][0][0][0],3))\n",
    "        else:\n",
    "            classes = path[-1][0][0]\n",
    "            l = np.argmax(classes)\n",
    "            rule += f\"class: {class_names[l]} (proba: {np.round(100.0*classes[l]/np.sum(classes),2)}%)\"\n",
    "        rule += f\" | based on {path[-1][1]:,} samples\"\n",
    "        rules += [rule]\n",
    "        \n",
    "    return rules\n"
   ]
  },
  {
   "cell_type": "code",
   "execution_count": 12,
   "metadata": {
    "ExecuteTime": {
     "end_time": "2021-07-26T01:23:07.762655Z",
     "start_time": "2021-07-26T01:23:07.752818Z"
    }
   },
   "outputs": [],
   "source": [
    "rules = get_rules(clf, features, None)\n",
    "rules_dict = {}\n",
    "for i,r in enumerate(rules):    \n",
    "    rules_dict[i] = r\n",
    "    "
   ]
  },
  {
   "cell_type": "code",
   "execution_count": 13,
   "metadata": {
    "ExecuteTime": {
     "end_time": "2021-07-26T01:23:07.768705Z",
     "start_time": "2021-07-26T01:23:07.763610Z"
    }
   },
   "outputs": [
    {
     "data": {
      "text/plain": [
       "{0: 'if (Revenue_L12 > 174.5) and (Customer_Size <= 7481.66) and (Revenue_L12 > 202.5) then response: 51.164 | based on 1,154 samples',\n",
       " 1: 'if (Revenue_L12 > 174.5) and (Customer_Size <= 7481.66) and (Revenue_L12 <= 202.5) then response: 46.554 | based on 243 samples',\n",
       " 2: 'if (Revenue_L12 <= 174.5) and (Revenue_L12 > 145.5) and (Recency > 2.5) then response: 41.5 | based on 214 samples',\n",
       " 3: 'if (Revenue_L12 <= 174.5) and (Revenue_L12 <= 145.5) and (Customer_Size > 128.535) then response: 35.717 | based on 214 samples',\n",
       " 4: 'if (Revenue_L12 > 174.5) and (Customer_Size > 7481.66) and (Customer_Size <= 37720.68) then response: 42.45 | based on 204 samples',\n",
       " 5: 'if (Revenue_L12 <= 174.5) and (Revenue_L12 > 145.5) and (Recency <= 2.5) then response: 49.047 | based on 60 samples',\n",
       " 6: 'if (Revenue_L12 > 174.5) and (Customer_Size > 7481.66) and (Customer_Size > 37720.68) then response: 31.596 | based on 54 samples',\n",
       " 7: 'if (Revenue_L12 <= 174.5) and (Revenue_L12 <= 145.5) and (Customer_Size <= 128.535) then response: 57.175 | based on 4 samples'}"
      ]
     },
     "execution_count": 13,
     "metadata": {},
     "output_type": "execute_result"
    }
   ],
   "source": [
    "rules_dict"
   ]
  },
  {
   "cell_type": "code",
   "execution_count": 14,
   "metadata": {
    "ExecuteTime": {
     "end_time": "2021-07-26T01:23:07.776193Z",
     "start_time": "2021-07-26T01:23:07.769589Z"
    }
   },
   "outputs": [],
   "source": [
    "rules_df = tree_to_df(clf, features)"
   ]
  },
  {
   "cell_type": "code",
   "execution_count": 15,
   "metadata": {
    "ExecuteTime": {
     "end_time": "2021-07-26T01:23:07.779751Z",
     "start_time": "2021-07-26T01:23:07.777114Z"
    }
   },
   "outputs": [],
   "source": [
    "rules_df['rule_no'] = rules_df.index+1"
   ]
  },
  {
   "cell_type": "code",
   "execution_count": 16,
   "metadata": {
    "ExecuteTime": {
     "end_time": "2021-07-26T01:23:07.789923Z",
     "start_time": "2021-07-26T01:23:07.780698Z"
    }
   },
   "outputs": [
    {
     "data": {
      "text/html": [
       "<div>\n",
       "<style scoped>\n",
       "    .dataframe tbody tr th:only-of-type {\n",
       "        vertical-align: middle;\n",
       "    }\n",
       "\n",
       "    .dataframe tbody tr th {\n",
       "        vertical-align: top;\n",
       "    }\n",
       "\n",
       "    .dataframe thead th {\n",
       "        text-align: right;\n",
       "    }\n",
       "</style>\n",
       "<table border=\"1\" class=\"dataframe\">\n",
       "  <thead>\n",
       "    <tr style=\"text-align: right;\">\n",
       "      <th></th>\n",
       "      <th>0</th>\n",
       "      <th>1</th>\n",
       "      <th>2</th>\n",
       "      <th>Return</th>\n",
       "      <th>rule_no</th>\n",
       "    </tr>\n",
       "  </thead>\n",
       "  <tbody>\n",
       "    <tr>\n",
       "      <th>0</th>\n",
       "      <td>Revenue_L12 &lt;= 174.5</td>\n",
       "      <td>Revenue_L12 &lt;= 145.5</td>\n",
       "      <td>Customer_Size &lt;= 128.5349998474121</td>\n",
       "      <td>return 57.175</td>\n",
       "      <td>1</td>\n",
       "    </tr>\n",
       "    <tr>\n",
       "      <th>1</th>\n",
       "      <td>Customer_Size &gt; 128.5349998474121</td>\n",
       "      <td>None</td>\n",
       "      <td>None</td>\n",
       "      <td>return 35.71682242990654</td>\n",
       "      <td>2</td>\n",
       "    </tr>\n",
       "    <tr>\n",
       "      <th>2</th>\n",
       "      <td>Revenue_L12 &gt; 145.5</td>\n",
       "      <td>Recency &lt;= 2.5</td>\n",
       "      <td>None</td>\n",
       "      <td>return 49.04666666666665</td>\n",
       "      <td>3</td>\n",
       "    </tr>\n",
       "    <tr>\n",
       "      <th>3</th>\n",
       "      <td>Recency &gt; 2.5</td>\n",
       "      <td>None</td>\n",
       "      <td>None</td>\n",
       "      <td>return 41.50046728971964</td>\n",
       "      <td>4</td>\n",
       "    </tr>\n",
       "    <tr>\n",
       "      <th>4</th>\n",
       "      <td>Revenue_L12 &gt; 174.5</td>\n",
       "      <td>Customer_Size &lt;= 7481.659912109375</td>\n",
       "      <td>Revenue_L12 &lt;= 202.5</td>\n",
       "      <td>return 46.55390946502058</td>\n",
       "      <td>5</td>\n",
       "    </tr>\n",
       "    <tr>\n",
       "      <th>5</th>\n",
       "      <td>Revenue_L12 &gt; 202.5</td>\n",
       "      <td>None</td>\n",
       "      <td>None</td>\n",
       "      <td>return 51.16447140381288</td>\n",
       "      <td>6</td>\n",
       "    </tr>\n",
       "    <tr>\n",
       "      <th>6</th>\n",
       "      <td>Customer_Size &gt; 7481.659912109375</td>\n",
       "      <td>Customer_Size &lt;= 37720.6796875</td>\n",
       "      <td>None</td>\n",
       "      <td>return 42.45049019607843</td>\n",
       "      <td>7</td>\n",
       "    </tr>\n",
       "    <tr>\n",
       "      <th>7</th>\n",
       "      <td>Customer_Size &gt; 37720.6796875</td>\n",
       "      <td>None</td>\n",
       "      <td>None</td>\n",
       "      <td>return 31.596296296296302</td>\n",
       "      <td>8</td>\n",
       "    </tr>\n",
       "  </tbody>\n",
       "</table>\n",
       "</div>"
      ],
      "text/plain": [
       "                                   0                                   1  \\\n",
       "0               Revenue_L12 <= 174.5                Revenue_L12 <= 145.5   \n",
       "1  Customer_Size > 128.5349998474121                                None   \n",
       "2                Revenue_L12 > 145.5                      Recency <= 2.5   \n",
       "3                      Recency > 2.5                                None   \n",
       "4                Revenue_L12 > 174.5  Customer_Size <= 7481.659912109375   \n",
       "5                Revenue_L12 > 202.5                                None   \n",
       "6  Customer_Size > 7481.659912109375      Customer_Size <= 37720.6796875   \n",
       "7      Customer_Size > 37720.6796875                                None   \n",
       "\n",
       "                                    2                     Return  rule_no  \n",
       "0  Customer_Size <= 128.5349998474121              return 57.175        1  \n",
       "1                                None   return 35.71682242990654        2  \n",
       "2                                None   return 49.04666666666665        3  \n",
       "3                                None   return 41.50046728971964        4  \n",
       "4                Revenue_L12 <= 202.5   return 46.55390946502058        5  \n",
       "5                                None   return 51.16447140381288        6  \n",
       "6                                None   return 42.45049019607843        7  \n",
       "7                                None  return 31.596296296296302        8  "
      ]
     },
     "execution_count": 16,
     "metadata": {},
     "output_type": "execute_result"
    }
   ],
   "source": [
    "rules_df"
   ]
  },
  {
   "cell_type": "code",
   "execution_count": 17,
   "metadata": {
    "ExecuteTime": {
     "end_time": "2021-07-26T01:23:07.805792Z",
     "start_time": "2021-07-26T01:23:07.790814Z"
    }
   },
   "outputs": [
    {
     "data": {
      "text/html": [
       "<div>\n",
       "<style scoped>\n",
       "    .dataframe tbody tr th:only-of-type {\n",
       "        vertical-align: middle;\n",
       "    }\n",
       "\n",
       "    .dataframe tbody tr th {\n",
       "        vertical-align: top;\n",
       "    }\n",
       "\n",
       "    .dataframe thead th {\n",
       "        text-align: right;\n",
       "    }\n",
       "</style>\n",
       "<table border=\"1\" class=\"dataframe\">\n",
       "  <thead>\n",
       "    <tr style=\"text-align: right;\">\n",
       "      <th></th>\n",
       "      <th>Customer</th>\n",
       "      <th>Product_Group</th>\n",
       "      <th>Recency</th>\n",
       "      <th>Avg_Price_L3Y</th>\n",
       "      <th>Revenue_L12</th>\n",
       "      <th>Customer_Size</th>\n",
       "      <th>l3y_volume</th>\n",
       "      <th>standard_cost</th>\n",
       "      <th>l12_sales_vol</th>\n",
       "      <th>Current_Price</th>\n",
       "    </tr>\n",
       "  </thead>\n",
       "  <tbody>\n",
       "    <tr>\n",
       "      <th>0</th>\n",
       "      <td>10018</td>\n",
       "      <td>Product_A</td>\n",
       "      <td>9</td>\n",
       "      <td>29.3</td>\n",
       "      <td>243</td>\n",
       "      <td>38827.46</td>\n",
       "      <td>34.89</td>\n",
       "      <td>10</td>\n",
       "      <td>11.6</td>\n",
       "      <td>32.23</td>\n",
       "    </tr>\n",
       "    <tr>\n",
       "      <th>1</th>\n",
       "      <td>10024</td>\n",
       "      <td>Product_A</td>\n",
       "      <td>5</td>\n",
       "      <td>53.6</td>\n",
       "      <td>627</td>\n",
       "      <td>4051.66</td>\n",
       "      <td>42.84</td>\n",
       "      <td>10</td>\n",
       "      <td>14.3</td>\n",
       "      <td>58.96</td>\n",
       "    </tr>\n",
       "    <tr>\n",
       "      <th>2</th>\n",
       "      <td>10031</td>\n",
       "      <td>Product_A</td>\n",
       "      <td>2</td>\n",
       "      <td>60.6</td>\n",
       "      <td>2362</td>\n",
       "      <td>12182.45</td>\n",
       "      <td>116.86</td>\n",
       "      <td>10</td>\n",
       "      <td>39.0</td>\n",
       "      <td>66.66</td>\n",
       "    </tr>\n",
       "    <tr>\n",
       "      <th>3</th>\n",
       "      <td>10064</td>\n",
       "      <td>Product_A</td>\n",
       "      <td>5</td>\n",
       "      <td>39.8</td>\n",
       "      <td>336</td>\n",
       "      <td>31729.38</td>\n",
       "      <td>26.61</td>\n",
       "      <td>10</td>\n",
       "      <td>8.9</td>\n",
       "      <td>43.78</td>\n",
       "    </tr>\n",
       "    <tr>\n",
       "      <th>4</th>\n",
       "      <td>10117</td>\n",
       "      <td>Product_A</td>\n",
       "      <td>12</td>\n",
       "      <td>37.5</td>\n",
       "      <td>135</td>\n",
       "      <td>135.11</td>\n",
       "      <td>3.60</td>\n",
       "      <td>10</td>\n",
       "      <td>1.2</td>\n",
       "      <td>41.25</td>\n",
       "    </tr>\n",
       "    <tr>\n",
       "      <th>...</th>\n",
       "      <td>...</td>\n",
       "      <td>...</td>\n",
       "      <td>...</td>\n",
       "      <td>...</td>\n",
       "      <td>...</td>\n",
       "      <td>...</td>\n",
       "      <td>...</td>\n",
       "      <td>...</td>\n",
       "      <td>...</td>\n",
       "      <td>...</td>\n",
       "    </tr>\n",
       "    <tr>\n",
       "      <th>2142</th>\n",
       "      <td>8995442</td>\n",
       "      <td>Product_A</td>\n",
       "      <td>11</td>\n",
       "      <td>18.8</td>\n",
       "      <td>291</td>\n",
       "      <td>7520.45</td>\n",
       "      <td>28.74</td>\n",
       "      <td>10</td>\n",
       "      <td>9.6</td>\n",
       "      <td>20.68</td>\n",
       "    </tr>\n",
       "    <tr>\n",
       "      <th>2143</th>\n",
       "      <td>8996178</td>\n",
       "      <td>Product_A</td>\n",
       "      <td>8</td>\n",
       "      <td>28.7</td>\n",
       "      <td>119</td>\n",
       "      <td>1365.62</td>\n",
       "      <td>7.90</td>\n",
       "      <td>10</td>\n",
       "      <td>2.6</td>\n",
       "      <td>31.57</td>\n",
       "    </tr>\n",
       "    <tr>\n",
       "      <th>2144</th>\n",
       "      <td>8996426</td>\n",
       "      <td>Product_A</td>\n",
       "      <td>6</td>\n",
       "      <td>38.9</td>\n",
       "      <td>162</td>\n",
       "      <td>1165.76</td>\n",
       "      <td>19.11</td>\n",
       "      <td>10</td>\n",
       "      <td>6.4</td>\n",
       "      <td>42.79</td>\n",
       "    </tr>\n",
       "    <tr>\n",
       "      <th>2145</th>\n",
       "      <td>8996563</td>\n",
       "      <td>Product_A</td>\n",
       "      <td>2</td>\n",
       "      <td>43.8</td>\n",
       "      <td>164</td>\n",
       "      <td>456.95</td>\n",
       "      <td>3.74</td>\n",
       "      <td>10</td>\n",
       "      <td>1.2</td>\n",
       "      <td>48.18</td>\n",
       "    </tr>\n",
       "    <tr>\n",
       "      <th>2146</th>\n",
       "      <td>8997191</td>\n",
       "      <td>Product_A</td>\n",
       "      <td>2</td>\n",
       "      <td>36.4</td>\n",
       "      <td>134</td>\n",
       "      <td>174.59</td>\n",
       "      <td>3.68</td>\n",
       "      <td>10</td>\n",
       "      <td>1.2</td>\n",
       "      <td>40.04</td>\n",
       "    </tr>\n",
       "  </tbody>\n",
       "</table>\n",
       "<p>2147 rows × 10 columns</p>\n",
       "</div>"
      ],
      "text/plain": [
       "      Customer Product_Group  Recency  Avg_Price_L3Y  Revenue_L12  \\\n",
       "0        10018     Product_A        9           29.3          243   \n",
       "1        10024     Product_A        5           53.6          627   \n",
       "2        10031     Product_A        2           60.6         2362   \n",
       "3        10064     Product_A        5           39.8          336   \n",
       "4        10117     Product_A       12           37.5          135   \n",
       "...        ...           ...      ...            ...          ...   \n",
       "2142   8995442     Product_A       11           18.8          291   \n",
       "2143   8996178     Product_A        8           28.7          119   \n",
       "2144   8996426     Product_A        6           38.9          162   \n",
       "2145   8996563     Product_A        2           43.8          164   \n",
       "2146   8997191     Product_A        2           36.4          134   \n",
       "\n",
       "      Customer_Size  l3y_volume  standard_cost  l12_sales_vol  Current_Price  \n",
       "0          38827.46       34.89             10           11.6          32.23  \n",
       "1           4051.66       42.84             10           14.3          58.96  \n",
       "2          12182.45      116.86             10           39.0          66.66  \n",
       "3          31729.38       26.61             10            8.9          43.78  \n",
       "4            135.11        3.60             10            1.2          41.25  \n",
       "...             ...         ...            ...            ...            ...  \n",
       "2142        7520.45       28.74             10            9.6          20.68  \n",
       "2143        1365.62        7.90             10            2.6          31.57  \n",
       "2144        1165.76       19.11             10            6.4          42.79  \n",
       "2145         456.95        3.74             10            1.2          48.18  \n",
       "2146         174.59        3.68             10            1.2          40.04  \n",
       "\n",
       "[2147 rows x 10 columns]"
      ]
     },
     "execution_count": 17,
     "metadata": {},
     "output_type": "execute_result"
    }
   ],
   "source": [
    "df"
   ]
  },
  {
   "cell_type": "code",
   "execution_count": 18,
   "metadata": {
    "ExecuteTime": {
     "end_time": "2021-07-26T01:23:07.811463Z",
     "start_time": "2021-07-26T01:23:07.806883Z"
    }
   },
   "outputs": [
    {
     "name": "stdout",
     "output_type": "stream",
     "text": [
      "def decision_tree(Revenue_L12, Recency, Customer_Size):\n",
      "    # DecisionTreeRegressor(ccp_alpha=0.001, max_depth=3, min_samples_split=100,\n",
      "    #                       random_state=42)\n",
      "    if Revenue_L12 <= 174.5:\n",
      "        if Revenue_L12 <= 145.5:\n",
      "            if Customer_Size <= 128.535:\n",
      "                 return [57.175000]\n",
      "            if Customer_Size > 128.535:\n",
      "                 return [35.716822]\n",
      "        if Revenue_L12 > 145.5:\n",
      "            if Recency <= 2.5:\n",
      "                 return [49.046667]\n",
      "            if Recency > 2.5:\n",
      "                 return [41.500467]\n",
      "    if Revenue_L12 > 174.5:\n",
      "        if Customer_Size <= 7481.66:\n",
      "            if Revenue_L12 <= 202.5:\n",
      "                 return [46.553909]\n",
      "            if Revenue_L12 > 202.5:\n",
      "                 return [51.164471]\n",
      "        if Customer_Size > 7481.66:\n",
      "            if Customer_Size <= 37720.7:\n",
      "                 return [42.450490]\n",
      "            if Customer_Size > 37720.7:\n",
      "                 return [31.596296]\n",
      "    \n",
      "\n"
     ]
    }
   ],
   "source": [
    "res = export_py_code(clf, feature_names=features, spacing=4)\n",
    "print(res)"
   ]
  },
  {
   "cell_type": "code",
   "execution_count": 19,
   "metadata": {
    "ExecuteTime": {
     "end_time": "2021-07-26T01:23:07.817417Z",
     "start_time": "2021-07-26T01:23:07.812382Z"
    }
   },
   "outputs": [],
   "source": [
    "with open('DecisionTreeRegressorRML.py', 'w') as f:\n",
    "    f.write(res)    "
   ]
  },
  {
   "cell_type": "code",
   "execution_count": 20,
   "metadata": {
    "ExecuteTime": {
     "end_time": "2021-07-26T01:23:07.825046Z",
     "start_time": "2021-07-26T01:23:07.818662Z"
    }
   },
   "outputs": [],
   "source": [
    "from DecisionTreeRegressorRML import decision_tree"
   ]
  },
  {
   "cell_type": "code",
   "execution_count": 21,
   "metadata": {
    "ExecuteTime": {
     "end_time": "2021-07-26T01:23:07.833556Z",
     "start_time": "2021-07-26T01:23:07.826055Z"
    }
   },
   "outputs": [
    {
     "data": {
      "text/plain": [
       "\"decision_tree(Revenue_L12=x['Revenue_L12'],Recency=x['Recency'],Customer_Size=x['Customer_Size'])\""
      ]
     },
     "execution_count": 21,
     "metadata": {},
     "output_type": "execute_result"
    }
   ],
   "source": [
    "text_function = str(decision_tree.__name__)+'('+','.join([item+\"=x['\"+item+\"']\" for item in get_func_args(decision_tree)])+')'\n",
    "text_function"
   ]
  },
  {
   "cell_type": "code",
   "execution_count": 22,
   "metadata": {
    "ExecuteTime": {
     "end_time": "2021-07-26T01:23:07.904770Z",
     "start_time": "2021-07-26T01:23:07.837308Z"
    }
   },
   "outputs": [],
   "source": [
    "df['node'] = df.apply(lambda x: eval(text_function), axis=1) \n",
    "df['node'] = df['node'].apply(lambda x:str(x).replace('[','').replace(']',''))"
   ]
  },
  {
   "cell_type": "code",
   "execution_count": 23,
   "metadata": {
    "ExecuteTime": {
     "end_time": "2021-07-26T01:23:07.908472Z",
     "start_time": "2021-07-26T01:23:07.905790Z"
    }
   },
   "outputs": [],
   "source": [
    "le = LabelEncoder()\n",
    "df['segment'] = le.fit_transform(df['node'])"
   ]
  },
  {
   "cell_type": "code",
   "execution_count": 24,
   "metadata": {
    "ExecuteTime": {
     "end_time": "2021-07-26T01:23:07.928139Z",
     "start_time": "2021-07-26T01:23:07.909295Z"
    }
   },
   "outputs": [
    {
     "data": {
      "text/html": [
       "<div>\n",
       "<style scoped>\n",
       "    .dataframe tbody tr th:only-of-type {\n",
       "        vertical-align: middle;\n",
       "    }\n",
       "\n",
       "    .dataframe tbody tr th {\n",
       "        vertical-align: top;\n",
       "    }\n",
       "\n",
       "    .dataframe thead th {\n",
       "        text-align: right;\n",
       "    }\n",
       "</style>\n",
       "<table border=\"1\" class=\"dataframe\">\n",
       "  <thead>\n",
       "    <tr style=\"text-align: right;\">\n",
       "      <th></th>\n",
       "      <th>Customer</th>\n",
       "      <th>Product_Group</th>\n",
       "      <th>Recency</th>\n",
       "      <th>Avg_Price_L3Y</th>\n",
       "      <th>Revenue_L12</th>\n",
       "      <th>Customer_Size</th>\n",
       "      <th>l3y_volume</th>\n",
       "      <th>standard_cost</th>\n",
       "      <th>l12_sales_vol</th>\n",
       "      <th>Current_Price</th>\n",
       "      <th>node</th>\n",
       "      <th>segment</th>\n",
       "    </tr>\n",
       "  </thead>\n",
       "  <tbody>\n",
       "    <tr>\n",
       "      <th>0</th>\n",
       "      <td>10018</td>\n",
       "      <td>Product_A</td>\n",
       "      <td>9</td>\n",
       "      <td>29.3</td>\n",
       "      <td>243</td>\n",
       "      <td>38827.46</td>\n",
       "      <td>34.89</td>\n",
       "      <td>10</td>\n",
       "      <td>11.6</td>\n",
       "      <td>32.23</td>\n",
       "      <td>31.596296</td>\n",
       "      <td>0</td>\n",
       "    </tr>\n",
       "    <tr>\n",
       "      <th>1</th>\n",
       "      <td>10024</td>\n",
       "      <td>Product_A</td>\n",
       "      <td>5</td>\n",
       "      <td>53.6</td>\n",
       "      <td>627</td>\n",
       "      <td>4051.66</td>\n",
       "      <td>42.84</td>\n",
       "      <td>10</td>\n",
       "      <td>14.3</td>\n",
       "      <td>58.96</td>\n",
       "      <td>51.164471</td>\n",
       "      <td>6</td>\n",
       "    </tr>\n",
       "    <tr>\n",
       "      <th>2</th>\n",
       "      <td>10031</td>\n",
       "      <td>Product_A</td>\n",
       "      <td>2</td>\n",
       "      <td>60.6</td>\n",
       "      <td>2362</td>\n",
       "      <td>12182.45</td>\n",
       "      <td>116.86</td>\n",
       "      <td>10</td>\n",
       "      <td>39.0</td>\n",
       "      <td>66.66</td>\n",
       "      <td>42.45049</td>\n",
       "      <td>3</td>\n",
       "    </tr>\n",
       "    <tr>\n",
       "      <th>3</th>\n",
       "      <td>10064</td>\n",
       "      <td>Product_A</td>\n",
       "      <td>5</td>\n",
       "      <td>39.8</td>\n",
       "      <td>336</td>\n",
       "      <td>31729.38</td>\n",
       "      <td>26.61</td>\n",
       "      <td>10</td>\n",
       "      <td>8.9</td>\n",
       "      <td>43.78</td>\n",
       "      <td>42.45049</td>\n",
       "      <td>3</td>\n",
       "    </tr>\n",
       "    <tr>\n",
       "      <th>4</th>\n",
       "      <td>10117</td>\n",
       "      <td>Product_A</td>\n",
       "      <td>12</td>\n",
       "      <td>37.5</td>\n",
       "      <td>135</td>\n",
       "      <td>135.11</td>\n",
       "      <td>3.60</td>\n",
       "      <td>10</td>\n",
       "      <td>1.2</td>\n",
       "      <td>41.25</td>\n",
       "      <td>35.716822</td>\n",
       "      <td>1</td>\n",
       "    </tr>\n",
       "    <tr>\n",
       "      <th>...</th>\n",
       "      <td>...</td>\n",
       "      <td>...</td>\n",
       "      <td>...</td>\n",
       "      <td>...</td>\n",
       "      <td>...</td>\n",
       "      <td>...</td>\n",
       "      <td>...</td>\n",
       "      <td>...</td>\n",
       "      <td>...</td>\n",
       "      <td>...</td>\n",
       "      <td>...</td>\n",
       "      <td>...</td>\n",
       "    </tr>\n",
       "    <tr>\n",
       "      <th>2142</th>\n",
       "      <td>8995442</td>\n",
       "      <td>Product_A</td>\n",
       "      <td>11</td>\n",
       "      <td>18.8</td>\n",
       "      <td>291</td>\n",
       "      <td>7520.45</td>\n",
       "      <td>28.74</td>\n",
       "      <td>10</td>\n",
       "      <td>9.6</td>\n",
       "      <td>20.68</td>\n",
       "      <td>42.45049</td>\n",
       "      <td>3</td>\n",
       "    </tr>\n",
       "    <tr>\n",
       "      <th>2143</th>\n",
       "      <td>8996178</td>\n",
       "      <td>Product_A</td>\n",
       "      <td>8</td>\n",
       "      <td>28.7</td>\n",
       "      <td>119</td>\n",
       "      <td>1365.62</td>\n",
       "      <td>7.90</td>\n",
       "      <td>10</td>\n",
       "      <td>2.6</td>\n",
       "      <td>31.57</td>\n",
       "      <td>35.716822</td>\n",
       "      <td>1</td>\n",
       "    </tr>\n",
       "    <tr>\n",
       "      <th>2144</th>\n",
       "      <td>8996426</td>\n",
       "      <td>Product_A</td>\n",
       "      <td>6</td>\n",
       "      <td>38.9</td>\n",
       "      <td>162</td>\n",
       "      <td>1165.76</td>\n",
       "      <td>19.11</td>\n",
       "      <td>10</td>\n",
       "      <td>6.4</td>\n",
       "      <td>42.79</td>\n",
       "      <td>41.500467</td>\n",
       "      <td>2</td>\n",
       "    </tr>\n",
       "    <tr>\n",
       "      <th>2145</th>\n",
       "      <td>8996563</td>\n",
       "      <td>Product_A</td>\n",
       "      <td>2</td>\n",
       "      <td>43.8</td>\n",
       "      <td>164</td>\n",
       "      <td>456.95</td>\n",
       "      <td>3.74</td>\n",
       "      <td>10</td>\n",
       "      <td>1.2</td>\n",
       "      <td>48.18</td>\n",
       "      <td>49.046667</td>\n",
       "      <td>5</td>\n",
       "    </tr>\n",
       "    <tr>\n",
       "      <th>2146</th>\n",
       "      <td>8997191</td>\n",
       "      <td>Product_A</td>\n",
       "      <td>2</td>\n",
       "      <td>36.4</td>\n",
       "      <td>134</td>\n",
       "      <td>174.59</td>\n",
       "      <td>3.68</td>\n",
       "      <td>10</td>\n",
       "      <td>1.2</td>\n",
       "      <td>40.04</td>\n",
       "      <td>35.716822</td>\n",
       "      <td>1</td>\n",
       "    </tr>\n",
       "  </tbody>\n",
       "</table>\n",
       "<p>2147 rows × 12 columns</p>\n",
       "</div>"
      ],
      "text/plain": [
       "      Customer Product_Group  Recency  Avg_Price_L3Y  Revenue_L12  \\\n",
       "0        10018     Product_A        9           29.3          243   \n",
       "1        10024     Product_A        5           53.6          627   \n",
       "2        10031     Product_A        2           60.6         2362   \n",
       "3        10064     Product_A        5           39.8          336   \n",
       "4        10117     Product_A       12           37.5          135   \n",
       "...        ...           ...      ...            ...          ...   \n",
       "2142   8995442     Product_A       11           18.8          291   \n",
       "2143   8996178     Product_A        8           28.7          119   \n",
       "2144   8996426     Product_A        6           38.9          162   \n",
       "2145   8996563     Product_A        2           43.8          164   \n",
       "2146   8997191     Product_A        2           36.4          134   \n",
       "\n",
       "      Customer_Size  l3y_volume  standard_cost  l12_sales_vol  Current_Price  \\\n",
       "0          38827.46       34.89             10           11.6          32.23   \n",
       "1           4051.66       42.84             10           14.3          58.96   \n",
       "2          12182.45      116.86             10           39.0          66.66   \n",
       "3          31729.38       26.61             10            8.9          43.78   \n",
       "4            135.11        3.60             10            1.2          41.25   \n",
       "...             ...         ...            ...            ...            ...   \n",
       "2142        7520.45       28.74             10            9.6          20.68   \n",
       "2143        1365.62        7.90             10            2.6          31.57   \n",
       "2144        1165.76       19.11             10            6.4          42.79   \n",
       "2145         456.95        3.74             10            1.2          48.18   \n",
       "2146         174.59        3.68             10            1.2          40.04   \n",
       "\n",
       "           node  segment  \n",
       "0     31.596296        0  \n",
       "1     51.164471        6  \n",
       "2      42.45049        3  \n",
       "3      42.45049        3  \n",
       "4     35.716822        1  \n",
       "...         ...      ...  \n",
       "2142   42.45049        3  \n",
       "2143  35.716822        1  \n",
       "2144  41.500467        2  \n",
       "2145  49.046667        5  \n",
       "2146  35.716822        1  \n",
       "\n",
       "[2147 rows x 12 columns]"
      ]
     },
     "execution_count": 24,
     "metadata": {},
     "output_type": "execute_result"
    }
   ],
   "source": [
    "df"
   ]
  },
  {
   "cell_type": "markdown",
   "metadata": {},
   "source": [
    "# Elastisicity Function per Segment"
   ]
  },
  {
   "cell_type": "code",
   "execution_count": 25,
   "metadata": {
    "ExecuteTime": {
     "end_time": "2021-07-26T01:23:07.940757Z",
     "start_time": "2021-07-26T01:23:07.929014Z"
    }
   },
   "outputs": [],
   "source": [
    "df = df.loc[df['l3y_volume']>0]\n",
    "df = df.loc[df['Avg_Price_L3Y']>0]"
   ]
  },
  {
   "cell_type": "code",
   "execution_count": 26,
   "metadata": {
    "ExecuteTime": {
     "end_time": "2021-07-26T01:23:07.952831Z",
     "start_time": "2021-07-26T01:23:07.941758Z"
    }
   },
   "outputs": [
    {
     "data": {
      "text/plain": [
       "(2147, 12)"
      ]
     },
     "execution_count": 26,
     "metadata": {},
     "output_type": "execute_result"
    }
   ],
   "source": [
    "df.shape"
   ]
  },
  {
   "cell_type": "code",
   "execution_count": 27,
   "metadata": {
    "ExecuteTime": {
     "end_time": "2021-07-26T01:23:07.966240Z",
     "start_time": "2021-07-26T01:23:07.953706Z"
    }
   },
   "outputs": [],
   "source": [
    "df.loc[:,'lnvolume'] = np.log(df.loc[:,'l3y_volume'])\n",
    "df.loc[:,'lnAvg_Price_L3Y'] = np.log(df.loc[:,'Avg_Price_L3Y'])"
   ]
  },
  {
   "cell_type": "code",
   "execution_count": 28,
   "metadata": {
    "ExecuteTime": {
     "end_time": "2021-07-26T01:23:07.990108Z",
     "start_time": "2021-07-26T01:23:07.967365Z"
    }
   },
   "outputs": [
    {
     "data": {
      "text/html": [
       "<div>\n",
       "<style scoped>\n",
       "    .dataframe tbody tr th:only-of-type {\n",
       "        vertical-align: middle;\n",
       "    }\n",
       "\n",
       "    .dataframe tbody tr th {\n",
       "        vertical-align: top;\n",
       "    }\n",
       "\n",
       "    .dataframe thead th {\n",
       "        text-align: right;\n",
       "    }\n",
       "</style>\n",
       "<table border=\"1\" class=\"dataframe\">\n",
       "  <thead>\n",
       "    <tr style=\"text-align: right;\">\n",
       "      <th></th>\n",
       "      <th>Customer</th>\n",
       "      <th>Product_Group</th>\n",
       "      <th>Recency</th>\n",
       "      <th>Avg_Price_L3Y</th>\n",
       "      <th>Revenue_L12</th>\n",
       "      <th>Customer_Size</th>\n",
       "      <th>l3y_volume</th>\n",
       "      <th>standard_cost</th>\n",
       "      <th>l12_sales_vol</th>\n",
       "      <th>Current_Price</th>\n",
       "      <th>node</th>\n",
       "      <th>segment</th>\n",
       "      <th>lnvolume</th>\n",
       "      <th>lnAvg_Price_L3Y</th>\n",
       "    </tr>\n",
       "  </thead>\n",
       "  <tbody>\n",
       "    <tr>\n",
       "      <th>0</th>\n",
       "      <td>10018</td>\n",
       "      <td>Product_A</td>\n",
       "      <td>9</td>\n",
       "      <td>29.3</td>\n",
       "      <td>243</td>\n",
       "      <td>38827.46</td>\n",
       "      <td>34.89</td>\n",
       "      <td>10</td>\n",
       "      <td>11.6</td>\n",
       "      <td>32.23</td>\n",
       "      <td>31.596296</td>\n",
       "      <td>0</td>\n",
       "      <td>3.552200</td>\n",
       "      <td>3.377588</td>\n",
       "    </tr>\n",
       "    <tr>\n",
       "      <th>1</th>\n",
       "      <td>10024</td>\n",
       "      <td>Product_A</td>\n",
       "      <td>5</td>\n",
       "      <td>53.6</td>\n",
       "      <td>627</td>\n",
       "      <td>4051.66</td>\n",
       "      <td>42.84</td>\n",
       "      <td>10</td>\n",
       "      <td>14.3</td>\n",
       "      <td>58.96</td>\n",
       "      <td>51.164471</td>\n",
       "      <td>6</td>\n",
       "      <td>3.757472</td>\n",
       "      <td>3.981549</td>\n",
       "    </tr>\n",
       "    <tr>\n",
       "      <th>2</th>\n",
       "      <td>10031</td>\n",
       "      <td>Product_A</td>\n",
       "      <td>2</td>\n",
       "      <td>60.6</td>\n",
       "      <td>2362</td>\n",
       "      <td>12182.45</td>\n",
       "      <td>116.86</td>\n",
       "      <td>10</td>\n",
       "      <td>39.0</td>\n",
       "      <td>66.66</td>\n",
       "      <td>42.45049</td>\n",
       "      <td>3</td>\n",
       "      <td>4.760977</td>\n",
       "      <td>4.104295</td>\n",
       "    </tr>\n",
       "    <tr>\n",
       "      <th>3</th>\n",
       "      <td>10064</td>\n",
       "      <td>Product_A</td>\n",
       "      <td>5</td>\n",
       "      <td>39.8</td>\n",
       "      <td>336</td>\n",
       "      <td>31729.38</td>\n",
       "      <td>26.61</td>\n",
       "      <td>10</td>\n",
       "      <td>8.9</td>\n",
       "      <td>43.78</td>\n",
       "      <td>42.45049</td>\n",
       "      <td>3</td>\n",
       "      <td>3.281287</td>\n",
       "      <td>3.683867</td>\n",
       "    </tr>\n",
       "    <tr>\n",
       "      <th>4</th>\n",
       "      <td>10117</td>\n",
       "      <td>Product_A</td>\n",
       "      <td>12</td>\n",
       "      <td>37.5</td>\n",
       "      <td>135</td>\n",
       "      <td>135.11</td>\n",
       "      <td>3.60</td>\n",
       "      <td>10</td>\n",
       "      <td>1.2</td>\n",
       "      <td>41.25</td>\n",
       "      <td>35.716822</td>\n",
       "      <td>1</td>\n",
       "      <td>1.280934</td>\n",
       "      <td>3.624341</td>\n",
       "    </tr>\n",
       "    <tr>\n",
       "      <th>...</th>\n",
       "      <td>...</td>\n",
       "      <td>...</td>\n",
       "      <td>...</td>\n",
       "      <td>...</td>\n",
       "      <td>...</td>\n",
       "      <td>...</td>\n",
       "      <td>...</td>\n",
       "      <td>...</td>\n",
       "      <td>...</td>\n",
       "      <td>...</td>\n",
       "      <td>...</td>\n",
       "      <td>...</td>\n",
       "      <td>...</td>\n",
       "      <td>...</td>\n",
       "    </tr>\n",
       "    <tr>\n",
       "      <th>2142</th>\n",
       "      <td>8995442</td>\n",
       "      <td>Product_A</td>\n",
       "      <td>11</td>\n",
       "      <td>18.8</td>\n",
       "      <td>291</td>\n",
       "      <td>7520.45</td>\n",
       "      <td>28.74</td>\n",
       "      <td>10</td>\n",
       "      <td>9.6</td>\n",
       "      <td>20.68</td>\n",
       "      <td>42.45049</td>\n",
       "      <td>3</td>\n",
       "      <td>3.358290</td>\n",
       "      <td>2.933857</td>\n",
       "    </tr>\n",
       "    <tr>\n",
       "      <th>2143</th>\n",
       "      <td>8996178</td>\n",
       "      <td>Product_A</td>\n",
       "      <td>8</td>\n",
       "      <td>28.7</td>\n",
       "      <td>119</td>\n",
       "      <td>1365.62</td>\n",
       "      <td>7.90</td>\n",
       "      <td>10</td>\n",
       "      <td>2.6</td>\n",
       "      <td>31.57</td>\n",
       "      <td>35.716822</td>\n",
       "      <td>1</td>\n",
       "      <td>2.066863</td>\n",
       "      <td>3.356897</td>\n",
       "    </tr>\n",
       "    <tr>\n",
       "      <th>2144</th>\n",
       "      <td>8996426</td>\n",
       "      <td>Product_A</td>\n",
       "      <td>6</td>\n",
       "      <td>38.9</td>\n",
       "      <td>162</td>\n",
       "      <td>1165.76</td>\n",
       "      <td>19.11</td>\n",
       "      <td>10</td>\n",
       "      <td>6.4</td>\n",
       "      <td>42.79</td>\n",
       "      <td>41.500467</td>\n",
       "      <td>2</td>\n",
       "      <td>2.950212</td>\n",
       "      <td>3.660994</td>\n",
       "    </tr>\n",
       "    <tr>\n",
       "      <th>2145</th>\n",
       "      <td>8996563</td>\n",
       "      <td>Product_A</td>\n",
       "      <td>2</td>\n",
       "      <td>43.8</td>\n",
       "      <td>164</td>\n",
       "      <td>456.95</td>\n",
       "      <td>3.74</td>\n",
       "      <td>10</td>\n",
       "      <td>1.2</td>\n",
       "      <td>48.18</td>\n",
       "      <td>49.046667</td>\n",
       "      <td>5</td>\n",
       "      <td>1.319086</td>\n",
       "      <td>3.779634</td>\n",
       "    </tr>\n",
       "    <tr>\n",
       "      <th>2146</th>\n",
       "      <td>8997191</td>\n",
       "      <td>Product_A</td>\n",
       "      <td>2</td>\n",
       "      <td>36.4</td>\n",
       "      <td>134</td>\n",
       "      <td>174.59</td>\n",
       "      <td>3.68</td>\n",
       "      <td>10</td>\n",
       "      <td>1.2</td>\n",
       "      <td>40.04</td>\n",
       "      <td>35.716822</td>\n",
       "      <td>1</td>\n",
       "      <td>1.302913</td>\n",
       "      <td>3.594569</td>\n",
       "    </tr>\n",
       "  </tbody>\n",
       "</table>\n",
       "<p>2147 rows × 14 columns</p>\n",
       "</div>"
      ],
      "text/plain": [
       "      Customer Product_Group  Recency  Avg_Price_L3Y  Revenue_L12  \\\n",
       "0        10018     Product_A        9           29.3          243   \n",
       "1        10024     Product_A        5           53.6          627   \n",
       "2        10031     Product_A        2           60.6         2362   \n",
       "3        10064     Product_A        5           39.8          336   \n",
       "4        10117     Product_A       12           37.5          135   \n",
       "...        ...           ...      ...            ...          ...   \n",
       "2142   8995442     Product_A       11           18.8          291   \n",
       "2143   8996178     Product_A        8           28.7          119   \n",
       "2144   8996426     Product_A        6           38.9          162   \n",
       "2145   8996563     Product_A        2           43.8          164   \n",
       "2146   8997191     Product_A        2           36.4          134   \n",
       "\n",
       "      Customer_Size  l3y_volume  standard_cost  l12_sales_vol  Current_Price  \\\n",
       "0          38827.46       34.89             10           11.6          32.23   \n",
       "1           4051.66       42.84             10           14.3          58.96   \n",
       "2          12182.45      116.86             10           39.0          66.66   \n",
       "3          31729.38       26.61             10            8.9          43.78   \n",
       "4            135.11        3.60             10            1.2          41.25   \n",
       "...             ...         ...            ...            ...            ...   \n",
       "2142        7520.45       28.74             10            9.6          20.68   \n",
       "2143        1365.62        7.90             10            2.6          31.57   \n",
       "2144        1165.76       19.11             10            6.4          42.79   \n",
       "2145         456.95        3.74             10            1.2          48.18   \n",
       "2146         174.59        3.68             10            1.2          40.04   \n",
       "\n",
       "           node  segment  lnvolume  lnAvg_Price_L3Y  \n",
       "0     31.596296        0  3.552200         3.377588  \n",
       "1     51.164471        6  3.757472         3.981549  \n",
       "2      42.45049        3  4.760977         4.104295  \n",
       "3      42.45049        3  3.281287         3.683867  \n",
       "4     35.716822        1  1.280934         3.624341  \n",
       "...         ...      ...       ...              ...  \n",
       "2142   42.45049        3  3.358290         2.933857  \n",
       "2143  35.716822        1  2.066863         3.356897  \n",
       "2144  41.500467        2  2.950212         3.660994  \n",
       "2145  49.046667        5  1.319086         3.779634  \n",
       "2146  35.716822        1  1.302913         3.594569  \n",
       "\n",
       "[2147 rows x 14 columns]"
      ]
     },
     "execution_count": 28,
     "metadata": {},
     "output_type": "execute_result"
    }
   ],
   "source": [
    "df"
   ]
  },
  {
   "cell_type": "code",
   "execution_count": 29,
   "metadata": {
    "ExecuteTime": {
     "end_time": "2021-07-26T01:23:08.050015Z",
     "start_time": "2021-07-26T01:23:07.991095Z"
    },
    "scrolled": false
   },
   "outputs": [
    {
     "name": "stdout",
     "output_type": "stream",
     "text": [
      "segment: 0\n",
      "[9.27666951] [[-1.45293861]]\n",
      "segment: 6\n",
      "[7.35232117] [[-1.14285895]]\n",
      "segment: 3\n",
      "[5.24290042] [[-0.2691711]]\n",
      "segment: 1\n",
      "[3.96884438] [[-0.55282215]]\n",
      "segment: 2\n",
      "[7.79123089] [[-1.52279876]]\n",
      "segment: 4\n",
      "[6.76830656] [[-1.19685004]]\n",
      "segment: 5\n",
      "[3.12018604] [[-0.28304676]]\n",
      "segment: 7\n",
      "[1.18332258] [[0.02654909]]\n"
     ]
    }
   ],
   "source": [
    "lin_regs = {}\n",
    "\n",
    "features = ['lnAvg_Price_L3Y']\n",
    "target = ['lnvolume']\n",
    "\n",
    "for segment in df['segment'].unique():\n",
    "    \n",
    "    print('segment:',segment)\n",
    "    sub = df[df['segment']==segment]\n",
    "    \n",
    "    lin_reg = LinearRegression()\n",
    "    lin_reg.fit(sub[features].values,sub[target].values.reshape(-1, 1))\n",
    "    print(lin_reg.intercept_,lin_reg.coef_)\n",
    "    \n",
    "    lin_regs[segment] = {}\n",
    "    lin_regs[segment]['intercept_'] = lin_reg.intercept_[0]\n",
    "    lin_regs[segment]['coef_'] = lin_reg.coef_[0]    "
   ]
  },
  {
   "cell_type": "code",
   "execution_count": 30,
   "metadata": {
    "ExecuteTime": {
     "end_time": "2021-07-26T01:23:08.054457Z",
     "start_time": "2021-07-26T01:23:08.051019Z"
    }
   },
   "outputs": [
    {
     "data": {
      "text/plain": [
       "{0: {'intercept_': 9.27666951451969, 'coef_': array([-1.45293861])},\n",
       " 6: {'intercept_': 7.352321168603478, 'coef_': array([-1.14285895])},\n",
       " 3: {'intercept_': 5.242900417117241, 'coef_': array([-0.2691711])},\n",
       " 1: {'intercept_': 3.968844375944699, 'coef_': array([-0.55282215])},\n",
       " 2: {'intercept_': 7.791230885275283, 'coef_': array([-1.52279876])},\n",
       " 4: {'intercept_': 6.768306562405984, 'coef_': array([-1.19685004])},\n",
       " 5: {'intercept_': 3.1201860417757703, 'coef_': array([-0.28304676])},\n",
       " 7: {'intercept_': 1.183322580471354, 'coef_': array([0.02654909])}}"
      ]
     },
     "execution_count": 30,
     "metadata": {},
     "output_type": "execute_result"
    }
   ],
   "source": [
    "lin_regs"
   ]
  },
  {
   "cell_type": "code",
   "execution_count": 31,
   "metadata": {
    "ExecuteTime": {
     "end_time": "2021-07-26T01:23:08.061062Z",
     "start_time": "2021-07-26T01:23:08.055581Z"
    }
   },
   "outputs": [],
   "source": [
    "df['lin_reg'] = df['segment'].map(lin_regs)"
   ]
  },
  {
   "cell_type": "code",
   "execution_count": 32,
   "metadata": {
    "ExecuteTime": {
     "end_time": "2021-07-26T01:23:08.069386Z",
     "start_time": "2021-07-26T01:23:08.062221Z"
    }
   },
   "outputs": [],
   "source": [
    "df['elasticity'] = df['lin_reg'].apply(lambda x:dict(x)['intercept_'])"
   ]
  },
  {
   "cell_type": "code",
   "execution_count": 35,
   "metadata": {
    "ExecuteTime": {
     "end_time": "2021-07-26T01:23:52.949666Z",
     "start_time": "2021-07-26T01:23:52.947286Z"
    }
   },
   "outputs": [],
   "source": [
    "df['AVG_PE'] = df['elasticity'].mean()"
   ]
  },
  {
   "cell_type": "code",
   "execution_count": 37,
   "metadata": {
    "ExecuteTime": {
     "end_time": "2021-07-26T01:25:47.103614Z",
     "start_time": "2021-07-26T01:25:47.100545Z"
    }
   },
   "outputs": [],
   "source": [
    "df['elasticity'] = np.where(df['elasticity']>=-0.3,df['AVG_PE'],df['elasticity'])"
   ]
  },
  {
   "cell_type": "code",
   "execution_count": 39,
   "metadata": {
    "ExecuteTime": {
     "end_time": "2021-07-26T01:26:26.302762Z",
     "start_time": "2021-07-26T01:26:26.184982Z"
    }
   },
   "outputs": [
    {
     "data": {
      "text/plain": [
       "<AxesSubplot:>"
      ]
     },
     "execution_count": 39,
     "metadata": {},
     "output_type": "execute_result"
    },
    {
     "data": {
      "image/png": "[encoded data removed]",
      "text/plain": [
       "<Figure size 432x288 with 1 Axes>"
      ]
     },
     "metadata": {
      "needs_background": "light"
     },
     "output_type": "display_data"
    }
   ],
   "source": [
    "df['elasticity'].hist()"
   ]
  },
  {
   "cell_type": "markdown",
   "metadata": {
    "ExecuteTime": {
     "end_time": "2021-07-26T01:27:39.184162Z",
     "start_time": "2021-07-26T01:27:39.175850Z"
    }
   },
   "source": [
    "<b>Is it right to use population threshold to limit PE? This exercise will ignore this part.</b>"
   ]
  },
  {
   "cell_type": "code",
   "execution_count": 50,
   "metadata": {
    "ExecuteTime": {
     "end_time": "2021-07-26T01:31:59.334047Z",
     "start_time": "2021-07-26T01:31:59.327904Z"
    }
   },
   "outputs": [],
   "source": [
    "df['elasticity'] = df['lin_reg'].apply(lambda x:dict(x)['intercept_'])"
   ]
  },
  {
   "cell_type": "code",
   "execution_count": 51,
   "metadata": {
    "ExecuteTime": {
     "end_time": "2021-07-26T01:31:59.785050Z",
     "start_time": "2021-07-26T01:31:59.782395Z"
    }
   },
   "outputs": [],
   "source": [
    "# df['AVG_PE_per_segment'] =  df.groupby('segment')['elasticity'].transform(mean)\n",
    "# df.groupby(['segment']).aggregate({'elasticity':np.mean}).reset_index()"
   ]
  },
  {
   "cell_type": "code",
   "execution_count": 53,
   "metadata": {
    "ExecuteTime": {
     "end_time": "2021-07-26T01:40:17.860371Z",
     "start_time": "2021-07-26T01:40:17.729717Z"
    }
   },
   "outputs": [
    {
     "data": {
      "text/plain": [
       "<AxesSubplot:>"
      ]
     },
     "execution_count": 53,
     "metadata": {},
     "output_type": "execute_result"
    },
    {
     "data": {
      "image/png": "[encoded data removed]",
      "text/plain": [
       "<Figure size 432x288 with 1 Axes>"
      ]
     },
     "metadata": {
      "needs_background": "light"
     },
     "output_type": "display_data"
    }
   ],
   "source": [
    "df['elasticity'].hist()"
   ]
  },
  {
   "cell_type": "code",
   "execution_count": 52,
   "metadata": {
    "ExecuteTime": {
     "end_time": "2021-07-26T01:31:59.988193Z",
     "start_time": "2021-07-26T01:31:59.962901Z"
    }
   },
   "outputs": [
    {
     "data": {
      "text/html": [
       "<div>\n",
       "<style scoped>\n",
       "    .dataframe tbody tr th:only-of-type {\n",
       "        vertical-align: middle;\n",
       "    }\n",
       "\n",
       "    .dataframe tbody tr th {\n",
       "        vertical-align: top;\n",
       "    }\n",
       "\n",
       "    .dataframe thead th {\n",
       "        text-align: right;\n",
       "    }\n",
       "</style>\n",
       "<table border=\"1\" class=\"dataframe\">\n",
       "  <thead>\n",
       "    <tr style=\"text-align: right;\">\n",
       "      <th></th>\n",
       "      <th>Customer</th>\n",
       "      <th>Product_Group</th>\n",
       "      <th>Recency</th>\n",
       "      <th>Avg_Price_L3Y</th>\n",
       "      <th>Revenue_L12</th>\n",
       "      <th>Customer_Size</th>\n",
       "      <th>l3y_volume</th>\n",
       "      <th>standard_cost</th>\n",
       "      <th>l12_sales_vol</th>\n",
       "      <th>Current_Price</th>\n",
       "      <th>node</th>\n",
       "      <th>segment</th>\n",
       "      <th>lnvolume</th>\n",
       "      <th>lnAvg_Price_L3Y</th>\n",
       "      <th>lin_reg</th>\n",
       "      <th>elasticity</th>\n",
       "      <th>AVG_PE</th>\n",
       "    </tr>\n",
       "  </thead>\n",
       "  <tbody>\n",
       "    <tr>\n",
       "      <th>0</th>\n",
       "      <td>10018</td>\n",
       "      <td>Product_A</td>\n",
       "      <td>9</td>\n",
       "      <td>29.3</td>\n",
       "      <td>243</td>\n",
       "      <td>38827.46</td>\n",
       "      <td>34.89</td>\n",
       "      <td>10</td>\n",
       "      <td>11.6</td>\n",
       "      <td>32.23</td>\n",
       "      <td>31.596296</td>\n",
       "      <td>0</td>\n",
       "      <td>3.552200</td>\n",
       "      <td>3.377588</td>\n",
       "      <td>{'intercept_': 9.27666951451969, 'coef_': [-1....</td>\n",
       "      <td>9.276670</td>\n",
       "      <td>6.710931</td>\n",
       "    </tr>\n",
       "    <tr>\n",
       "      <th>1</th>\n",
       "      <td>10024</td>\n",
       "      <td>Product_A</td>\n",
       "      <td>5</td>\n",
       "      <td>53.6</td>\n",
       "      <td>627</td>\n",
       "      <td>4051.66</td>\n",
       "      <td>42.84</td>\n",
       "      <td>10</td>\n",
       "      <td>14.3</td>\n",
       "      <td>58.96</td>\n",
       "      <td>51.164471</td>\n",
       "      <td>6</td>\n",
       "      <td>3.757472</td>\n",
       "      <td>3.981549</td>\n",
       "      <td>{'intercept_': 7.352321168603478, 'coef_': [-1...</td>\n",
       "      <td>7.352321</td>\n",
       "      <td>6.710931</td>\n",
       "    </tr>\n",
       "    <tr>\n",
       "      <th>2</th>\n",
       "      <td>10031</td>\n",
       "      <td>Product_A</td>\n",
       "      <td>2</td>\n",
       "      <td>60.6</td>\n",
       "      <td>2362</td>\n",
       "      <td>12182.45</td>\n",
       "      <td>116.86</td>\n",
       "      <td>10</td>\n",
       "      <td>39.0</td>\n",
       "      <td>66.66</td>\n",
       "      <td>42.45049</td>\n",
       "      <td>3</td>\n",
       "      <td>4.760977</td>\n",
       "      <td>4.104295</td>\n",
       "      <td>{'intercept_': 5.242900417117241, 'coef_': [-0...</td>\n",
       "      <td>5.242900</td>\n",
       "      <td>6.710931</td>\n",
       "    </tr>\n",
       "    <tr>\n",
       "      <th>3</th>\n",
       "      <td>10064</td>\n",
       "      <td>Product_A</td>\n",
       "      <td>5</td>\n",
       "      <td>39.8</td>\n",
       "      <td>336</td>\n",
       "      <td>31729.38</td>\n",
       "      <td>26.61</td>\n",
       "      <td>10</td>\n",
       "      <td>8.9</td>\n",
       "      <td>43.78</td>\n",
       "      <td>42.45049</td>\n",
       "      <td>3</td>\n",
       "      <td>3.281287</td>\n",
       "      <td>3.683867</td>\n",
       "      <td>{'intercept_': 5.242900417117241, 'coef_': [-0...</td>\n",
       "      <td>5.242900</td>\n",
       "      <td>6.710931</td>\n",
       "    </tr>\n",
       "    <tr>\n",
       "      <th>4</th>\n",
       "      <td>10117</td>\n",
       "      <td>Product_A</td>\n",
       "      <td>12</td>\n",
       "      <td>37.5</td>\n",
       "      <td>135</td>\n",
       "      <td>135.11</td>\n",
       "      <td>3.60</td>\n",
       "      <td>10</td>\n",
       "      <td>1.2</td>\n",
       "      <td>41.25</td>\n",
       "      <td>35.716822</td>\n",
       "      <td>1</td>\n",
       "      <td>1.280934</td>\n",
       "      <td>3.624341</td>\n",
       "      <td>{'intercept_': 3.968844375944699, 'coef_': [-0...</td>\n",
       "      <td>3.968844</td>\n",
       "      <td>6.710931</td>\n",
       "    </tr>\n",
       "    <tr>\n",
       "      <th>...</th>\n",
       "      <td>...</td>\n",
       "      <td>...</td>\n",
       "      <td>...</td>\n",
       "      <td>...</td>\n",
       "      <td>...</td>\n",
       "      <td>...</td>\n",
       "      <td>...</td>\n",
       "      <td>...</td>\n",
       "      <td>...</td>\n",
       "      <td>...</td>\n",
       "      <td>...</td>\n",
       "      <td>...</td>\n",
       "      <td>...</td>\n",
       "      <td>...</td>\n",
       "      <td>...</td>\n",
       "      <td>...</td>\n",
       "      <td>...</td>\n",
       "    </tr>\n",
       "    <tr>\n",
       "      <th>2142</th>\n",
       "      <td>8995442</td>\n",
       "      <td>Product_A</td>\n",
       "      <td>11</td>\n",
       "      <td>18.8</td>\n",
       "      <td>291</td>\n",
       "      <td>7520.45</td>\n",
       "      <td>28.74</td>\n",
       "      <td>10</td>\n",
       "      <td>9.6</td>\n",
       "      <td>20.68</td>\n",
       "      <td>42.45049</td>\n",
       "      <td>3</td>\n",
       "      <td>3.358290</td>\n",
       "      <td>2.933857</td>\n",
       "      <td>{'intercept_': 5.242900417117241, 'coef_': [-0...</td>\n",
       "      <td>5.242900</td>\n",
       "      <td>6.710931</td>\n",
       "    </tr>\n",
       "    <tr>\n",
       "      <th>2143</th>\n",
       "      <td>8996178</td>\n",
       "      <td>Product_A</td>\n",
       "      <td>8</td>\n",
       "      <td>28.7</td>\n",
       "      <td>119</td>\n",
       "      <td>1365.62</td>\n",
       "      <td>7.90</td>\n",
       "      <td>10</td>\n",
       "      <td>2.6</td>\n",
       "      <td>31.57</td>\n",
       "      <td>35.716822</td>\n",
       "      <td>1</td>\n",
       "      <td>2.066863</td>\n",
       "      <td>3.356897</td>\n",
       "      <td>{'intercept_': 3.968844375944699, 'coef_': [-0...</td>\n",
       "      <td>3.968844</td>\n",
       "      <td>6.710931</td>\n",
       "    </tr>\n",
       "    <tr>\n",
       "      <th>2144</th>\n",
       "      <td>8996426</td>\n",
       "      <td>Product_A</td>\n",
       "      <td>6</td>\n",
       "      <td>38.9</td>\n",
       "      <td>162</td>\n",
       "      <td>1165.76</td>\n",
       "      <td>19.11</td>\n",
       "      <td>10</td>\n",
       "      <td>6.4</td>\n",
       "      <td>42.79</td>\n",
       "      <td>41.500467</td>\n",
       "      <td>2</td>\n",
       "      <td>2.950212</td>\n",
       "      <td>3.660994</td>\n",
       "      <td>{'intercept_': 7.791230885275283, 'coef_': [-1...</td>\n",
       "      <td>7.791231</td>\n",
       "      <td>6.710931</td>\n",
       "    </tr>\n",
       "    <tr>\n",
       "      <th>2145</th>\n",
       "      <td>8996563</td>\n",
       "      <td>Product_A</td>\n",
       "      <td>2</td>\n",
       "      <td>43.8</td>\n",
       "      <td>164</td>\n",
       "      <td>456.95</td>\n",
       "      <td>3.74</td>\n",
       "      <td>10</td>\n",
       "      <td>1.2</td>\n",
       "      <td>48.18</td>\n",
       "      <td>49.046667</td>\n",
       "      <td>5</td>\n",
       "      <td>1.319086</td>\n",
       "      <td>3.779634</td>\n",
       "      <td>{'intercept_': 3.1201860417757703, 'coef_': [-...</td>\n",
       "      <td>3.120186</td>\n",
       "      <td>6.710931</td>\n",
       "    </tr>\n",
       "    <tr>\n",
       "      <th>2146</th>\n",
       "      <td>8997191</td>\n",
       "      <td>Product_A</td>\n",
       "      <td>2</td>\n",
       "      <td>36.4</td>\n",
       "      <td>134</td>\n",
       "      <td>174.59</td>\n",
       "      <td>3.68</td>\n",
       "      <td>10</td>\n",
       "      <td>1.2</td>\n",
       "      <td>40.04</td>\n",
       "      <td>35.716822</td>\n",
       "      <td>1</td>\n",
       "      <td>1.302913</td>\n",
       "      <td>3.594569</td>\n",
       "      <td>{'intercept_': 3.968844375944699, 'coef_': [-0...</td>\n",
       "      <td>3.968844</td>\n",
       "      <td>6.710931</td>\n",
       "    </tr>\n",
       "  </tbody>\n",
       "</table>\n",
       "<p>2147 rows × 17 columns</p>\n",
       "</div>"
      ],
      "text/plain": [
       "      Customer Product_Group  Recency  Avg_Price_L3Y  Revenue_L12  \\\n",
       "0        10018     Product_A        9           29.3          243   \n",
       "1        10024     Product_A        5           53.6          627   \n",
       "2        10031     Product_A        2           60.6         2362   \n",
       "3        10064     Product_A        5           39.8          336   \n",
       "4        10117     Product_A       12           37.5          135   \n",
       "...        ...           ...      ...            ...          ...   \n",
       "2142   8995442     Product_A       11           18.8          291   \n",
       "2143   8996178     Product_A        8           28.7          119   \n",
       "2144   8996426     Product_A        6           38.9          162   \n",
       "2145   8996563     Product_A        2           43.8          164   \n",
       "2146   8997191     Product_A        2           36.4          134   \n",
       "\n",
       "      Customer_Size  l3y_volume  standard_cost  l12_sales_vol  Current_Price  \\\n",
       "0          38827.46       34.89             10           11.6          32.23   \n",
       "1           4051.66       42.84             10           14.3          58.96   \n",
       "2          12182.45      116.86             10           39.0          66.66   \n",
       "3          31729.38       26.61             10            8.9          43.78   \n",
       "4            135.11        3.60             10            1.2          41.25   \n",
       "...             ...         ...            ...            ...            ...   \n",
       "2142        7520.45       28.74             10            9.6          20.68   \n",
       "2143        1365.62        7.90             10            2.6          31.57   \n",
       "2144        1165.76       19.11             10            6.4          42.79   \n",
       "2145         456.95        3.74             10            1.2          48.18   \n",
       "2146         174.59        3.68             10            1.2          40.04   \n",
       "\n",
       "           node  segment  lnvolume  lnAvg_Price_L3Y  \\\n",
       "0     31.596296        0  3.552200         3.377588   \n",
       "1     51.164471        6  3.757472         3.981549   \n",
       "2      42.45049        3  4.760977         4.104295   \n",
       "3      42.45049        3  3.281287         3.683867   \n",
       "4     35.716822        1  1.280934         3.624341   \n",
       "...         ...      ...       ...              ...   \n",
       "2142   42.45049        3  3.358290         2.933857   \n",
       "2143  35.716822        1  2.066863         3.356897   \n",
       "2144  41.500467        2  2.950212         3.660994   \n",
       "2145  49.046667        5  1.319086         3.779634   \n",
       "2146  35.716822        1  1.302913         3.594569   \n",
       "\n",
       "                                                lin_reg  elasticity    AVG_PE  \n",
       "0     {'intercept_': 9.27666951451969, 'coef_': [-1....    9.276670  6.710931  \n",
       "1     {'intercept_': 7.352321168603478, 'coef_': [-1...    7.352321  6.710931  \n",
       "2     {'intercept_': 5.242900417117241, 'coef_': [-0...    5.242900  6.710931  \n",
       "3     {'intercept_': 5.242900417117241, 'coef_': [-0...    5.242900  6.710931  \n",
       "4     {'intercept_': 3.968844375944699, 'coef_': [-0...    3.968844  6.710931  \n",
       "...                                                 ...         ...       ...  \n",
       "2142  {'intercept_': 5.242900417117241, 'coef_': [-0...    5.242900  6.710931  \n",
       "2143  {'intercept_': 3.968844375944699, 'coef_': [-0...    3.968844  6.710931  \n",
       "2144  {'intercept_': 7.791230885275283, 'coef_': [-1...    7.791231  6.710931  \n",
       "2145  {'intercept_': 3.1201860417757703, 'coef_': [-...    3.120186  6.710931  \n",
       "2146  {'intercept_': 3.968844375944699, 'coef_': [-0...    3.968844  6.710931  \n",
       "\n",
       "[2147 rows x 17 columns]"
      ]
     },
     "execution_count": 52,
     "metadata": {},
     "output_type": "execute_result"
    }
   ],
   "source": [
    "df"
   ]
  },
  {
   "cell_type": "code",
   "execution_count": 54,
   "metadata": {
    "ExecuteTime": {
     "end_time": "2021-07-26T01:41:12.813147Z",
     "start_time": "2021-07-26T01:41:12.653578Z"
    }
   },
   "outputs": [],
   "source": [
    "# write.csv2(df1,'df1.csv')\n",
    "df.to_csv('df1.csv',index=False)"
   ]
  },
  {
   "cell_type": "markdown",
   "metadata": {},
   "source": [
    "# Optimisation per Segment"
   ]
  },
  {
   "cell_type": "code",
   "execution_count": null,
   "metadata": {
    "ExecuteTime": {
     "end_time": "2021-07-26T01:18:17.617151Z",
     "start_time": "2021-07-26T01:18:17.596Z"
    }
   },
   "outputs": [],
   "source": [
    "revenue_df= pd.DataFrame()\n",
    "\n",
    "for k,v, in lin_regs.items():\n",
    "    \n",
    "#     print(k,v)\n",
    "    \n",
    "    segment = k\n",
    "    \n",
    "    sub_df = df[df['segment']==segment]\n",
    "    \n",
    "    min_price = sub_df['Price'].min()\n",
    "    max_price = sub_df['Price'].max()\n",
    "    \n",
    "    Price = [i for i in np.arange(sub_df['Price'].min(), sub_df['Price'].max(), step)]\n",
    "#     print(segment,Price)\n",
    "\n",
    "    Revenue = []\n",
    "    \n",
    "    for i in Price:\n",
    "    \n",
    "        quantity_demanded = eval(quantity_function_text.replace('Price',str(i)))       \n",
    "        Revenue.append((i-standard_cost) * quantity_demanded)\n",
    "        \n",
    "    profit = pd.DataFrame({\"Price\": Price, \"Revenue\": Revenue})\n",
    "    profit['Segment'] = segment \n",
    "    \n",
    "    revenue_df = pd.concat([revenue_df,profit])\n",
    "    "
   ]
  },
  {
   "cell_type": "code",
   "execution_count": null,
   "metadata": {
    "ExecuteTime": {
     "end_time": "2021-07-26T01:18:17.617737Z",
     "start_time": "2021-07-26T01:18:17.598Z"
    }
   },
   "outputs": [],
   "source": [
    "revenue_df"
   ]
  },
  {
   "cell_type": "code",
   "execution_count": null,
   "metadata": {
    "ExecuteTime": {
     "end_time": "2021-07-26T01:18:17.618356Z",
     "start_time": "2021-07-26T01:18:17.601Z"
    }
   },
   "outputs": [],
   "source": [
    "revenue_df.groupby(['Segment']).aggregate({'Price':[np.min,np.max]})"
   ]
  },
  {
   "cell_type": "code",
   "execution_count": null,
   "metadata": {
    "ExecuteTime": {
     "end_time": "2021-07-26T01:18:17.618937Z",
     "start_time": "2021-07-26T01:18:17.603Z"
    }
   },
   "outputs": [],
   "source": [
    "for segment in revenue_df['Segment'].unique():\n",
    "    \n",
    "    sub = revenue_df[revenue_df['Segment']==segment]\n",
    "    \n",
    "    #plot revenue against price\n",
    "    plt.plot(sub[\"Price\"], sub[\"Revenue\"])    \n",
    "    plt.axvline(x=np.array(sub[sub['Revenue'] == sub['Revenue'].max()]['Price'])[0], c='red')\n",
    "    plt.title('Segment {}, Max Revenue at {}'.format(segment,np.array(sub[sub['Revenue'] == sub['Revenue'].max()]['Price'])[0]))\n",
    "    plt.show()"
   ]
  },
  {
   "cell_type": "markdown",
   "metadata": {
    "ExecuteTime": {
     "end_time": "2021-07-22T08:34:00.245884Z",
     "start_time": "2021-07-22T08:34:00.240573Z"
    }
   },
   "source": [
    "# End Here"
   ]
  }
 ],
 "metadata": {
  "kernelspec": {
   "display_name": "Python 3 (ipykernel)",
   "language": "python",
   "name": "python3"
  },
  "language_info": {
   "codemirror_mode": {
    "name": "ipython",
    "version": 3
   },
   "file_extension": ".py",
   "mimetype": "text/x-python",
   "name": "python",
   "nbconvert_exporter": "python",
   "pygments_lexer": "ipython3",
   "version": "3.8.3"
  },
  "toc": {
   "base_numbering": 1,
   "nav_menu": {},
   "number_sections": true,
   "sideBar": true,
   "skip_h1_title": false,
   "title_cell": "Table of Contents",
   "title_sidebar": "Contents",
   "toc_cell": false,
   "toc_position": {},
   "toc_section_display": true,
   "toc_window_display": true
  },
  "varInspector": {
   "cols": {
    "lenName": 16,
    "lenType": 16,
    "lenVar": 40
   },
   "kernels_config": {
    "python": {
     "delete_cmd_postfix": "",
     "delete_cmd_prefix": "del ",
     "library": "var_list.py",
     "varRefreshCmd": "print(var_dic_list())"
    },
    "r": {
     "delete_cmd_postfix": ") ",
     "delete_cmd_prefix": "rm(",
     "library": "var_list.r",
     "varRefreshCmd": "cat(var_dic_list()) "
    }
   },
   "types_to_exclude": [
    "module",
    "function",
    "builtin_function_or_method",
    "instance",
    "_Feature"
   ],
   "window_display": false
  }
 },
 "nbformat": 4,
 "nbformat_minor": 4
}
